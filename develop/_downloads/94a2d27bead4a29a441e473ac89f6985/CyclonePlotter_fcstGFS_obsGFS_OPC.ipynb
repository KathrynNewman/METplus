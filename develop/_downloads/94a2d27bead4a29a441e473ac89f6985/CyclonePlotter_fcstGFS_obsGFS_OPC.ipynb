{
  "cells": [
    {
      "cell_type": "code",
      "execution_count": null,
      "metadata": {
        "collapsed": false
      },
      "outputs": [],
      "source": [
        "%matplotlib inline"
      ]
    },
    {
      "cell_type": "markdown",
      "metadata": {},
      "source": [
        "\nCyclonePlotter: Use Case for OPC (EMC) cyclone data\n===================================================\n\nmodel_applications/tc_and_extra_tc/CyclonePlotter_fcstGFS_obsGFS_OPC.conf\n\n\n"
      ]
    },
    {
      "cell_type": "markdown",
      "metadata": {},
      "source": [
        "Scientific Objective\n--------------------\n\nOnce this method is complete, a forecast and reference track analysis file\nfor the valid date of interest (YYYYMMDDHH) will have been created {OUTPUT_BASE}/decks, \nforecast and reference tracks paired up {OUTPUT_BASE}/tc_pairs and global storm tracks \nfor the valid date of interest will be plotted {OUTPUT_BASE}/cyclone (PlateCaree projection)\n\n"
      ]
    },
    {
      "cell_type": "markdown",
      "metadata": {},
      "source": [
        "Datasets\n--------\n\n\n| **Forecast:** Adeck\n|     /path/to/{init?fmt=%Y}/trak.gfso.atcf_gen.glbl.{init?fmt=%Y}\n| **Observation:** Bdeck\n|     /path/to/{init?fmt=%Y}/trak.gfso.atcf_gen.glbl.{init?fmt=%Y}\n\n| **Location:** All of the input data required for this use case can be found in the met_test sample data tarball. Click here to the METplus releases page and download sample data for the appropriate release: https://github.com/dtcenter/METplus/releases\n| The tarball should be unpacked into the directory that you will set the value of INPUT_BASE. See 'Running METplus' section for more information.\n\n| **Data Source:** GFS\n\n"
      ]
    },
    {
      "cell_type": "markdown",
      "metadata": {},
      "source": [
        "METplus Components\n------------------\n\nThis use case utilizes the METplus TCPairs wrapper to search for\nfiles that are valid at a given run time and generate a command to run\nthe MET tool tc_pairs. It then uses the CyclonePlotter wrapper to create\na global plot of storm tracks for the desired day of interest (YYYYMMDDHH)\n\n"
      ]
    },
    {
      "cell_type": "markdown",
      "metadata": {},
      "source": [
        "METplus Workflow\n----------------\n\nTCPairs is the first tool called in this example. It processes the following\nrun times:\n\n| **Init/Valid:** 2020100700\n\nCyclonePlotter is the second (and final) tool called in this example. It processes the output\nfrom TCPairs.\n\n\n"
      ]
    },
    {
      "cell_type": "markdown",
      "metadata": {},
      "source": [
        "METplus Configuration\n---------------------\n\nMETplus first loads all of the configuration files found in parm/metplus_config,\nthen it loads any configuration files passed to METplus via the command line\nwith the -c option, i.e. -c /path/to/TCPairs_extra_tropical.conf\n\n.. highlight:: bash\n.. literalinclude:: ../../../../parm/use_cases/model_applications/tc_and_extra_tc/CyclonePlotter_fcstGFS_obsGFS_OPC.conf\n\n"
      ]
    },
    {
      "cell_type": "markdown",
      "metadata": {},
      "source": [
        "MET Configuration\n-----------------\n\nMETplus sets environment variables based on the values in the METplus configuration file.\nThese variables are referenced in the MET configuration file. **YOU SHOULD NOT SET ANY OF THESE ENVIRONMENT VARIABLES YOURSELF! THEY WILL BE OVERWRITTEN BY METPLUS WHEN IT CALLS THE MET TOOLS!** If there is a setting in the MET configuration file that is not controlled by an environment variable, you can add additional environment variables to be set only within the METplus environment using the [user_env_vars] section of the METplus configuration files. See the 'User Defined Config' section on the 'System Configuration' page of the METplus User's Guide for more information.\n\n.. highlight:: bash\n.. literalinclude:: ../../../../parm/met_config/TCPairsConfig_wrapped\n\nNote the following variables are referenced in the MET configuration file.\n\n* **${MODEL}** - Corresponds to MODEL in the METplus configuration file.\n* **${STORM_ID}** - Corresponds to TC_PAIRS_STORM_ID in the METplus configuration file.\n* **${BASIN}** - Corresponds to TC_PAIRS_BASIN in the METplus configuration file.\n* **${CYCLONE}** - Corresponds to TC_PAIRS_CYCLONE in the METplus configuration file.\n* **${STORM_NAME}** - Corresponds to TC_PAIRS_STORM_NAME in the METplus configuration file.\n* **${INIT_BEG}** -  Corresponds to INIT_BEG in the METplus configuration file. \n* **${INIT_END** - Corresponds to INIT_END in the METplus configuration file. \n* **${INIT_INCLUDE}** - Corresponds to INIT_INCLUDE in the METplus configuration file.\n* **${INIT_EXCLUDE}** - Corresponds to INIT_EXCLUDE in the METplus configuration file.\n* **${VALID_BEG}** - Corresponds to VALID_BEG in the METplus configuration file.\n* **${VALID_END}** - Corresponds to VALID_END in the METplus configuration file.\n* **${DLAND_FILE}** - Corresponds to TC_PAIRS_DLAND_FILE in the METplus configuration file.\n\n"
      ]
    },
    {
      "cell_type": "markdown",
      "metadata": {},
      "source": [
        "Python Embedding\n----------------\n\nThis use case uses a Python embedding script to read input data\n\nparm/use_cases/model_applications/tc_and_extra_tc/CyclonePlotter_fcstGFS_obsGFS_OPC/extract_opc_decks.py\n\n.. highlight:: python\n.. literalinclude:: ../../../../parm/use_cases/model_applications/tc_and_extra_tc/CyclonePlotter_fcstGFS_obsGFS_OPC/extract_opc_decks.py\n\n\n"
      ]
    },
    {
      "cell_type": "markdown",
      "metadata": {},
      "source": [
        "Running METplus\n---------------\n\nIt is recommended to run this use case by:\n\nPassing in TCPairs_extra_tropical.conf then a user-specific system configuration file::\n\n  run_metplus.py -c /path/to/CyclonePlotter_fcstGFS_obsGFS_OPC.conf -c /path/to/user_system.conf\n\nThe following METplus configuration variables must be set correctly to run this example.:\n\n* **INPUT_BASE** - Path to directory where EMC data files (csv) are read (See Datasets section to obtain tarballs).\n* **OUTPUT_BASE** - Path where METplus output will be written. This must be in a location where you have write permissions\n* **MET_INSTALL_DIR** - Path to location where MET is installed locally\n\nExample User Configuration File::\n\n  [dir]\n  INPUT_BASE = /path/to/sample/input/data\n  OUTPUT_BASE = /path/to/output/dir\n  MET_INSTALL_DIR = /path/to/met-X.Y \n\n**NOTE:** All of these items must be found under the [dir] section.\n\n\n"
      ]
    },
    {
      "cell_type": "markdown",
      "metadata": {},
      "source": [
        "Expected Output\n---------------\n\nA successful run will output the following both to the screen and to the logfile::\n\n  INFO: METplus has successfully finished running.\n\nRefer to the value set for **OUTPUT_BASE** to find where the output data was generated.\nOutput for this use case will be found in **tc_pairs/201412** (relative to **OUTPUT_BASE**)\nand will contain the following files:\n\n* decks/adeck.2020100700.dat\n* decks/bdeck.2020100700.dat\n* tc_pairs/tc_pairs.2020100700.dat\n* cyclone/20201007.png\n* cyclone/20201007.txt\n\n"
      ]
    },
    {
      "cell_type": "markdown",
      "metadata": {},
      "source": [
        "Keywords\n--------\n\n<div class=\"alert alert-info\"><h4>Note</h4><p></p></div>\n `TCPairsToolUseCase <https://dtcenter.github.io/METplus/search.html?q=TCPairsToolUseCase&check_keywords=yes&area=default>`_,\n `SBUOrgUseCase <https://dtcenter.github.io/METplus/search.html?q=SBUOrgUseCase&check_keywords=yes&area=default>`_\n<div class=\"alert alert-info\"><h4>Note</h4><p>`CyclonePlotterUseCase <https://dtcenter.github.io/METplus/search.html?q=CyclonePlotterUseCase&check_keywords=yes&area=default>`_</p></div>\n\nsphinx_gallery_thumbnail_path = '_static/tc_and_extra_tc-CyclonePlotter_fcstGFS_obsGFS_OPC.png'\n\n"
      ]
    }
  ],
  "metadata": {
    "kernelspec": {
      "display_name": "Python 3",
      "language": "python",
      "name": "python3"
    },
    "language_info": {
      "codemirror_mode": {
        "name": "ipython",
        "version": 3
      },
      "file_extension": ".py",
      "mimetype": "text/x-python",
      "name": "python",
      "nbconvert_exporter": "python",
      "pygments_lexer": "ipython3",
      "version": "3.6.10"
    }
  },
  "nbformat": 4,
  "nbformat_minor": 0
}